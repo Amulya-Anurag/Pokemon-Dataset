{
  "nbformat": 4,
  "nbformat_minor": 0,
  "metadata": {
    "colab": {
      "name": "Untitled1.ipynb",
      "provenance": []
    },
    "kernelspec": {
      "name": "python3",
      "display_name": "Python 3"
    }
  },
  "cells": [
    {
      "cell_type": "code",
      "metadata": {
        "id": "ZFhgRpKISKnR",
        "colab_type": "code",
        "colab": {
          "base_uri": "https://localhost:8080/",
          "height": 72
        },
        "outputId": "3c933c24-9813-406d-8e6e-4dcb2ea8b600"
      },
      "source": [
        "import numpy as np\n",
        "import pandas as pd\n",
        "import matplotlib.pyplot as plt\n",
        "import seaborn as sns\n",
        "sns.set()\n",
        "import warnings"
      ],
      "execution_count": 1,
      "outputs": [
        {
          "output_type": "stream",
          "text": [
            "/usr/local/lib/python3.6/dist-packages/statsmodels/tools/_testing.py:19: FutureWarning: pandas.util.testing is deprecated. Use the functions in the public API at pandas.testing instead.\n",
            "  import pandas.util.testing as tm\n"
          ],
          "name": "stderr"
        }
      ]
    },
    {
      "cell_type": "code",
      "metadata": {
        "id": "vWH2F-QuSMhv",
        "colab_type": "code",
        "colab": {
          "base_uri": "https://localhost:8080/",
          "height": 233
        },
        "outputId": "5cb551ec-23a9-4c6f-adee-a16eb7a35ba0"
      },
      "source": [
        "df= pd.read_csv('/content/Pokemon.csv')\n",
        "df.head()"
      ],
      "execution_count": 2,
      "outputs": [
        {
          "output_type": "execute_result",
          "data": {
            "text/html": [
              "<div>\n",
              "<style scoped>\n",
              "    .dataframe tbody tr th:only-of-type {\n",
              "        vertical-align: middle;\n",
              "    }\n",
              "\n",
              "    .dataframe tbody tr th {\n",
              "        vertical-align: top;\n",
              "    }\n",
              "\n",
              "    .dataframe thead th {\n",
              "        text-align: right;\n",
              "    }\n",
              "</style>\n",
              "<table border=\"1\" class=\"dataframe\">\n",
              "  <thead>\n",
              "    <tr style=\"text-align: right;\">\n",
              "      <th></th>\n",
              "      <th>#</th>\n",
              "      <th>Name</th>\n",
              "      <th>Type 1</th>\n",
              "      <th>Type 2</th>\n",
              "      <th>Total</th>\n",
              "      <th>HP</th>\n",
              "      <th>Attack</th>\n",
              "      <th>Defense</th>\n",
              "      <th>Sp. Atk</th>\n",
              "      <th>Sp. Def</th>\n",
              "      <th>Speed</th>\n",
              "      <th>Generation</th>\n",
              "      <th>Legendary</th>\n",
              "    </tr>\n",
              "  </thead>\n",
              "  <tbody>\n",
              "    <tr>\n",
              "      <th>0</th>\n",
              "      <td>1</td>\n",
              "      <td>Bulbasaur</td>\n",
              "      <td>Grass</td>\n",
              "      <td>Poison</td>\n",
              "      <td>318</td>\n",
              "      <td>45</td>\n",
              "      <td>49</td>\n",
              "      <td>49</td>\n",
              "      <td>65</td>\n",
              "      <td>65</td>\n",
              "      <td>45</td>\n",
              "      <td>1</td>\n",
              "      <td>False</td>\n",
              "    </tr>\n",
              "    <tr>\n",
              "      <th>1</th>\n",
              "      <td>2</td>\n",
              "      <td>Ivysaur</td>\n",
              "      <td>Grass</td>\n",
              "      <td>Poison</td>\n",
              "      <td>405</td>\n",
              "      <td>60</td>\n",
              "      <td>62</td>\n",
              "      <td>63</td>\n",
              "      <td>80</td>\n",
              "      <td>80</td>\n",
              "      <td>60</td>\n",
              "      <td>1</td>\n",
              "      <td>False</td>\n",
              "    </tr>\n",
              "    <tr>\n",
              "      <th>2</th>\n",
              "      <td>3</td>\n",
              "      <td>Venusaur</td>\n",
              "      <td>Grass</td>\n",
              "      <td>Poison</td>\n",
              "      <td>525</td>\n",
              "      <td>80</td>\n",
              "      <td>82</td>\n",
              "      <td>83</td>\n",
              "      <td>100</td>\n",
              "      <td>100</td>\n",
              "      <td>80</td>\n",
              "      <td>1</td>\n",
              "      <td>False</td>\n",
              "    </tr>\n",
              "    <tr>\n",
              "      <th>3</th>\n",
              "      <td>3</td>\n",
              "      <td>VenusaurMega Venusaur</td>\n",
              "      <td>Grass</td>\n",
              "      <td>Poison</td>\n",
              "      <td>625</td>\n",
              "      <td>80</td>\n",
              "      <td>100</td>\n",
              "      <td>123</td>\n",
              "      <td>122</td>\n",
              "      <td>120</td>\n",
              "      <td>80</td>\n",
              "      <td>1</td>\n",
              "      <td>False</td>\n",
              "    </tr>\n",
              "    <tr>\n",
              "      <th>4</th>\n",
              "      <td>4</td>\n",
              "      <td>Charmander</td>\n",
              "      <td>Fire</td>\n",
              "      <td>NaN</td>\n",
              "      <td>309</td>\n",
              "      <td>39</td>\n",
              "      <td>52</td>\n",
              "      <td>43</td>\n",
              "      <td>60</td>\n",
              "      <td>50</td>\n",
              "      <td>65</td>\n",
              "      <td>1</td>\n",
              "      <td>False</td>\n",
              "    </tr>\n",
              "  </tbody>\n",
              "</table>\n",
              "</div>"
            ],
            "text/plain": [
              "   #                   Name Type 1  ... Speed  Generation  Legendary\n",
              "0  1              Bulbasaur  Grass  ...    45           1      False\n",
              "1  2                Ivysaur  Grass  ...    60           1      False\n",
              "2  3               Venusaur  Grass  ...    80           1      False\n",
              "3  3  VenusaurMega Venusaur  Grass  ...    80           1      False\n",
              "4  4             Charmander   Fire  ...    65           1      False\n",
              "\n",
              "[5 rows x 13 columns]"
            ]
          },
          "metadata": {
            "tags": []
          },
          "execution_count": 2
        }
      ]
    },
    {
      "cell_type": "code",
      "metadata": {
        "id": "zKGHOiPMSPvS",
        "colab_type": "code",
        "colab": {}
      },
      "source": [
        "df=df.drop('#',axis=1)"
      ],
      "execution_count": 3,
      "outputs": []
    },
    {
      "cell_type": "code",
      "metadata": {
        "id": "JtUBDmSjTeTm",
        "colab_type": "code",
        "colab": {
          "base_uri": "https://localhost:8080/",
          "height": 242
        },
        "outputId": "7e21042a-c3f3-422b-d2e2-adfb84eeb40c"
      },
      "source": [
        "df.isna().sum()"
      ],
      "execution_count": 4,
      "outputs": [
        {
          "output_type": "execute_result",
          "data": {
            "text/plain": [
              "Name            0\n",
              "Type 1          0\n",
              "Type 2        386\n",
              "Total           0\n",
              "HP              0\n",
              "Attack          0\n",
              "Defense         0\n",
              "Sp. Atk         0\n",
              "Sp. Def         0\n",
              "Speed           0\n",
              "Generation      0\n",
              "Legendary       0\n",
              "dtype: int64"
            ]
          },
          "metadata": {
            "tags": []
          },
          "execution_count": 4
        }
      ]
    },
    {
      "cell_type": "code",
      "metadata": {
        "id": "_xGKE6X1UGQ6",
        "colab_type": "code",
        "colab": {
          "base_uri": "https://localhost:8080/",
          "height": 288
        },
        "outputId": "47199869-4247-41eb-a87b-0f3235a2e49c"
      },
      "source": [
        "df.describe()"
      ],
      "execution_count": 5,
      "outputs": [
        {
          "output_type": "execute_result",
          "data": {
            "text/html": [
              "<div>\n",
              "<style scoped>\n",
              "    .dataframe tbody tr th:only-of-type {\n",
              "        vertical-align: middle;\n",
              "    }\n",
              "\n",
              "    .dataframe tbody tr th {\n",
              "        vertical-align: top;\n",
              "    }\n",
              "\n",
              "    .dataframe thead th {\n",
              "        text-align: right;\n",
              "    }\n",
              "</style>\n",
              "<table border=\"1\" class=\"dataframe\">\n",
              "  <thead>\n",
              "    <tr style=\"text-align: right;\">\n",
              "      <th></th>\n",
              "      <th>Total</th>\n",
              "      <th>HP</th>\n",
              "      <th>Attack</th>\n",
              "      <th>Defense</th>\n",
              "      <th>Sp. Atk</th>\n",
              "      <th>Sp. Def</th>\n",
              "      <th>Speed</th>\n",
              "      <th>Generation</th>\n",
              "    </tr>\n",
              "  </thead>\n",
              "  <tbody>\n",
              "    <tr>\n",
              "      <th>count</th>\n",
              "      <td>800.00000</td>\n",
              "      <td>800.000000</td>\n",
              "      <td>800.000000</td>\n",
              "      <td>800.000000</td>\n",
              "      <td>800.000000</td>\n",
              "      <td>800.000000</td>\n",
              "      <td>800.000000</td>\n",
              "      <td>800.00000</td>\n",
              "    </tr>\n",
              "    <tr>\n",
              "      <th>mean</th>\n",
              "      <td>435.10250</td>\n",
              "      <td>69.258750</td>\n",
              "      <td>79.001250</td>\n",
              "      <td>73.842500</td>\n",
              "      <td>72.820000</td>\n",
              "      <td>71.902500</td>\n",
              "      <td>68.277500</td>\n",
              "      <td>3.32375</td>\n",
              "    </tr>\n",
              "    <tr>\n",
              "      <th>std</th>\n",
              "      <td>119.96304</td>\n",
              "      <td>25.534669</td>\n",
              "      <td>32.457366</td>\n",
              "      <td>31.183501</td>\n",
              "      <td>32.722294</td>\n",
              "      <td>27.828916</td>\n",
              "      <td>29.060474</td>\n",
              "      <td>1.66129</td>\n",
              "    </tr>\n",
              "    <tr>\n",
              "      <th>min</th>\n",
              "      <td>180.00000</td>\n",
              "      <td>1.000000</td>\n",
              "      <td>5.000000</td>\n",
              "      <td>5.000000</td>\n",
              "      <td>10.000000</td>\n",
              "      <td>20.000000</td>\n",
              "      <td>5.000000</td>\n",
              "      <td>1.00000</td>\n",
              "    </tr>\n",
              "    <tr>\n",
              "      <th>25%</th>\n",
              "      <td>330.00000</td>\n",
              "      <td>50.000000</td>\n",
              "      <td>55.000000</td>\n",
              "      <td>50.000000</td>\n",
              "      <td>49.750000</td>\n",
              "      <td>50.000000</td>\n",
              "      <td>45.000000</td>\n",
              "      <td>2.00000</td>\n",
              "    </tr>\n",
              "    <tr>\n",
              "      <th>50%</th>\n",
              "      <td>450.00000</td>\n",
              "      <td>65.000000</td>\n",
              "      <td>75.000000</td>\n",
              "      <td>70.000000</td>\n",
              "      <td>65.000000</td>\n",
              "      <td>70.000000</td>\n",
              "      <td>65.000000</td>\n",
              "      <td>3.00000</td>\n",
              "    </tr>\n",
              "    <tr>\n",
              "      <th>75%</th>\n",
              "      <td>515.00000</td>\n",
              "      <td>80.000000</td>\n",
              "      <td>100.000000</td>\n",
              "      <td>90.000000</td>\n",
              "      <td>95.000000</td>\n",
              "      <td>90.000000</td>\n",
              "      <td>90.000000</td>\n",
              "      <td>5.00000</td>\n",
              "    </tr>\n",
              "    <tr>\n",
              "      <th>max</th>\n",
              "      <td>780.00000</td>\n",
              "      <td>255.000000</td>\n",
              "      <td>190.000000</td>\n",
              "      <td>230.000000</td>\n",
              "      <td>194.000000</td>\n",
              "      <td>230.000000</td>\n",
              "      <td>180.000000</td>\n",
              "      <td>6.00000</td>\n",
              "    </tr>\n",
              "  </tbody>\n",
              "</table>\n",
              "</div>"
            ],
            "text/plain": [
              "           Total          HP      Attack  ...     Sp. Def       Speed  Generation\n",
              "count  800.00000  800.000000  800.000000  ...  800.000000  800.000000   800.00000\n",
              "mean   435.10250   69.258750   79.001250  ...   71.902500   68.277500     3.32375\n",
              "std    119.96304   25.534669   32.457366  ...   27.828916   29.060474     1.66129\n",
              "min    180.00000    1.000000    5.000000  ...   20.000000    5.000000     1.00000\n",
              "25%    330.00000   50.000000   55.000000  ...   50.000000   45.000000     2.00000\n",
              "50%    450.00000   65.000000   75.000000  ...   70.000000   65.000000     3.00000\n",
              "75%    515.00000   80.000000  100.000000  ...   90.000000   90.000000     5.00000\n",
              "max    780.00000  255.000000  190.000000  ...  230.000000  180.000000     6.00000\n",
              "\n",
              "[8 rows x 8 columns]"
            ]
          },
          "metadata": {
            "tags": []
          },
          "execution_count": 5
        }
      ]
    },
    {
      "cell_type": "code",
      "metadata": {
        "id": "Q-P8vXf0UV11",
        "colab_type": "code",
        "colab": {}
      },
      "source": [
        "df.columns= ['Name', 'Type1', 'Type2', 'Total', 'HP', 'Attack', 'Defense',\n",
        "       'SpAtk', 'SpDef', 'Speed', 'Generation', 'Legendary']"
      ],
      "execution_count": 6,
      "outputs": []
    },
    {
      "cell_type": "code",
      "metadata": {
        "id": "LLXL5f8sUo3J",
        "colab_type": "code",
        "colab": {}
      },
      "source": [
        "df1=df.copy()\n",
        "df1=df1.drop('Type2',axis=1)\n"
      ],
      "execution_count": 7,
      "outputs": []
    },
    {
      "cell_type": "code",
      "metadata": {
        "id": "QJdhFIRcXKvn",
        "colab_type": "code",
        "colab": {
          "base_uri": "https://localhost:8080/",
          "height": 302
        },
        "outputId": "5f7c4bd0-09e6-4808-f4e1-6787d4a7b773"
      },
      "source": [
        "sns.countplot(df.Legendary)"
      ],
      "execution_count": 8,
      "outputs": [
        {
          "output_type": "execute_result",
          "data": {
            "text/plain": [
              "<matplotlib.axes._subplots.AxesSubplot at 0x7f075a9b92e8>"
            ]
          },
          "metadata": {
            "tags": []
          },
          "execution_count": 8
        },
        {
          "output_type": "display_data",
          "data": {
            "image/png": "[encoded data removed]",
            "text/plain": [
              "<Figure size 432x288 with 1 Axes>"
            ]
          },
          "metadata": {
            "tags": [],
            "needs_background": "light"
          }
        }
      ]
    },
    {
      "cell_type": "code",
      "metadata": {
        "id": "RLIf_gTQXk-K",
        "colab_type": "code",
        "colab": {
          "base_uri": "https://localhost:8080/",
          "height": 69
        },
        "outputId": "5eba9e0e-8ce2-4bfc-a966-886bb2aeeeed"
      },
      "source": [
        "df.columns"
      ],
      "execution_count": 9,
      "outputs": [
        {
          "output_type": "execute_result",
          "data": {
            "text/plain": [
              "Index(['Name', 'Type1', 'Type2', 'Total', 'HP', 'Attack', 'Defense', 'SpAtk',\n",
              "       'SpDef', 'Speed', 'Generation', 'Legendary'],\n",
              "      dtype='object')"
            ]
          },
          "metadata": {
            "tags": []
          },
          "execution_count": 9
        }
      ]
    },
    {
      "cell_type": "code",
      "metadata": {
        "id": "qYOpxWO5YfLf",
        "colab_type": "code",
        "colab": {
          "base_uri": "https://localhost:8080/",
          "height": 513
        },
        "outputId": "55dd57dd-429e-4d9a-c838-ea9cc27253d7"
      },
      "source": [
        "fig,axes=plt.subplots(2, 3, figsize=(7, 7), sharex=True)\n",
        "for i in range(6):\n",
        "\n",
        "  sns.distplot(df1[df1.columns[2+i]],ax=axes[i//3,i%3],color=\"b\", kde_kws={\"shade\": True})\n",
        "\n",
        "  plt.setp(axes, yticks=[])\n",
        "  plt.tight_layout()\n",
        "plt.show\n",
        "\n",
        "sns.distplot(df.Speed)\n",
        "plt.show()"
      ],
      "execution_count": 10,
      "outputs": [
        {
          "output_type": "display_data",
          "data": {
            "image/png": "[encoded data removed]",
            "text/plain": [
              "<Figure size 504x504 with 6 Axes>"
            ]
          },
          "metadata": {
            "tags": [],
            "needs_background": "light"
          }
        }
      ]
    },
    {
      "cell_type": "code",
      "metadata": {
        "id": "LuUXwpdEeI_v",
        "colab_type": "code",
        "colab": {
          "base_uri": "https://localhost:8080/",
          "height": 138
        },
        "outputId": "9b44abe1-2094-40a8-c267-fbae52f30966"
      },
      "source": [
        "df.Generation.value_counts()"
      ],
      "execution_count": 11,
      "outputs": [
        {
          "output_type": "execute_result",
          "data": {
            "text/plain": [
              "1    166\n",
              "5    165\n",
              "3    160\n",
              "4    121\n",
              "2    106\n",
              "6     82\n",
              "Name: Generation, dtype: int64"
            ]
          },
          "metadata": {
            "tags": []
          },
          "execution_count": 11
        }
      ]
    },
    {
      "cell_type": "code",
      "metadata": {
        "id": "vfJgJwYuemvl",
        "colab_type": "code",
        "colab": {}
      },
      "source": [
        "df1=df1[['Name', 'Type1', 'Generation','Total','HP', 'Attack', 'Defense', 'SpAtk',\n",
        "       'SpDef', 'Speed', 'Legendary']]"
      ],
      "execution_count": 12,
      "outputs": []
    },
    {
      "cell_type": "code",
      "metadata": {
        "id": "7KYPVmX6hP2W",
        "colab_type": "code",
        "colab": {}
      },
      "source": [
        "df2=df1.drop('Name',axis=1)"
      ],
      "execution_count": 13,
      "outputs": []
    },
    {
      "cell_type": "code",
      "metadata": {
        "id": "6JT82-Osh5-p",
        "colab_type": "code",
        "colab": {
          "base_uri": "https://localhost:8080/",
          "height": 35
        },
        "outputId": "fdde673f-a22e-44a3-8e5b-0e2bf81d36a9"
      },
      "source": [
        "df2.Type1.nunique()"
      ],
      "execution_count": 14,
      "outputs": [
        {
          "output_type": "execute_result",
          "data": {
            "text/plain": [
              "18"
            ]
          },
          "metadata": {
            "tags": []
          },
          "execution_count": 14
        }
      ]
    },
    {
      "cell_type": "code",
      "metadata": {
        "id": "xgoMrO52h9Xk",
        "colab_type": "code",
        "colab": {}
      },
      "source": [
        "from sklearn.preprocessing import LabelEncoder \n",
        "  \n",
        "le = LabelEncoder() \n",
        "  \n",
        "df2['Type1']= le.fit_transform(df2['Type1']) \n",
        "df2['Legendary']= le.fit_transform(df2['Legendary']) "
      ],
      "execution_count": 15,
      "outputs": []
    },
    {
      "cell_type": "code",
      "metadata": {
        "id": "ItCzjIboi4s3",
        "colab_type": "code",
        "colab": {
          "base_uri": "https://localhost:8080/",
          "height": 667
        },
        "outputId": "98d7700a-383c-45bd-c377-a6f3b5fa91df"
      },
      "source": [
        "plt.figure(figsize=(10,10))\n",
        "sns.heatmap(df2.corr(),cmap='mako',annot=True)"
      ],
      "execution_count": 16,
      "outputs": [
        {
          "output_type": "execute_result",
          "data": {
            "text/plain": [
              "<matplotlib.axes._subplots.AxesSubplot at 0x7f0757092a20>"
            ]
          },
          "metadata": {
            "tags": []
          },
          "execution_count": 16
        },
        {
          "output_type": "display_data",
          "data": {
            "image/png": "[encoded data removed]",
            "text/plain": [
              "<Figure size 720x720 with 2 Axes>"
            ]
          },
          "metadata": {
            "tags": [],
            "needs_background": "light"
          }
        }
      ]
    },
    {
      "cell_type": "code",
      "metadata": {
        "id": "jYhHmXX1j7a6",
        "colab_type": "code",
        "colab": {}
      },
      "source": [
        "df3=df2.copy()"
      ],
      "execution_count": 17,
      "outputs": []
    },
    {
      "cell_type": "code",
      "metadata": {
        "id": "a4HQhorpj-mu",
        "colab_type": "code",
        "colab": {}
      },
      "source": [
        "inputs= df3.drop('Legendary',axis=1)\n",
        "targets=df3.Legendary"
      ],
      "execution_count": 18,
      "outputs": []
    },
    {
      "cell_type": "code",
      "metadata": {
        "id": "lHQwbopukcOK",
        "colab_type": "code",
        "colab": {}
      },
      "source": [
        "from sklearn.model_selection import train_test_split as tts\n",
        "xtrain,xtest,ytrain,ytest=tts(inputs,targets,random_state=400)"
      ],
      "execution_count": 19,
      "outputs": []
    },
    {
      "cell_type": "code",
      "metadata": {
        "id": "qSgVdU6Dktpj",
        "colab_type": "code",
        "colab": {}
      },
      "source": [
        "from sklearn.linear_model import LogisticRegression as LR\n",
        "from sklearn.ensemble import RandomForestClassifier as RFC\n",
        "from sklearn.ensemble import AdaBoostClassifier as ABC\n",
        "from sklearn.ensemble import  GradientBoostingClassifier as GBC\n",
        "from sklearn.tree import DecisionTreeClassifier as DTC\n",
        "from sklearn.svm import SVC\n",
        "from sklearn.metrics import classification_report as CR, confusion_matrix as CM"
      ],
      "execution_count": 20,
      "outputs": []
    },
    {
      "cell_type": "code",
      "metadata": {
        "id": "I8ogbh-PlstJ",
        "colab_type": "code",
        "colab": {}
      },
      "source": [
        "def get_score(model,xtrain,xtest,ytrain,ytest):\n",
        "  reg=model\n",
        "  reg.fit(xtrain,ytrain)\n",
        "  ypred=reg.predict(xtest)\n",
        "  sns.heatmap(CM(ytest,ypred),annot=True)\n",
        "  plt.show()\n",
        "  print(CR(ytest,ypred))\n"
      ],
      "execution_count": 21,
      "outputs": []
    },
    {
      "cell_type": "code",
      "metadata": {
        "id": "w0Y9gL08mvoA",
        "colab_type": "code",
        "colab": {
          "base_uri": "https://localhost:8080/",
          "height": 424
        },
        "outputId": "e6822ea9-a662-4912-839e-2704e24efa7f"
      },
      "source": [
        "get_score(LR(max_iter=1000),xtrain,xtest,ytrain,ytest)"
      ],
      "execution_count": 22,
      "outputs": [
        {
          "output_type": "display_data",
          "data": {
            "image/png": "[encoded data removed]",
            "text/plain": [
              "<Figure size 432x288 with 2 Axes>"
            ]
          },
          "metadata": {
            "tags": [],
            "needs_background": "light"
          }
        },
        {
          "output_type": "stream",
          "text": [
            "              precision    recall  f1-score   support\n",
            "\n",
            "           0       0.96      0.98      0.97       181\n",
            "           1       0.73      0.58      0.65        19\n",
            "\n",
            "    accuracy                           0.94       200\n",
            "   macro avg       0.85      0.78      0.81       200\n",
            "weighted avg       0.94      0.94      0.94       200\n",
            "\n"
          ],
          "name": "stdout"
        }
      ]
    },
    {
      "cell_type": "code",
      "metadata": {
        "id": "foIpEcSEm2eN",
        "colab_type": "code",
        "colab": {
          "base_uri": "https://localhost:8080/",
          "height": 424
        },
        "outputId": "824b0172-7ee1-4e1a-bfb5-954fb9a28469"
      },
      "source": [
        "get_score(RFC(n_estimators=150),xtrain,xtest,ytrain,ytest)"
      ],
      "execution_count": 23,
      "outputs": [
        {
          "output_type": "display_data",
          "data": {
            "image/png": "[encoded data removed]",
            "text/plain": [
              "<Figure size 432x288 with 2 Axes>"
            ]
          },
          "metadata": {
            "tags": [],
            "needs_background": "light"
          }
        },
        {
          "output_type": "stream",
          "text": [
            "              precision    recall  f1-score   support\n",
            "\n",
            "           0       0.96      0.99      0.97       181\n",
            "           1       0.85      0.58      0.69        19\n",
            "\n",
            "    accuracy                           0.95       200\n",
            "   macro avg       0.90      0.78      0.83       200\n",
            "weighted avg       0.95      0.95      0.95       200\n",
            "\n"
          ],
          "name": "stdout"
        }
      ]
    },
    {
      "cell_type": "code",
      "metadata": {
        "id": "it2QKPehsdhF",
        "colab_type": "code",
        "colab": {
          "base_uri": "https://localhost:8080/",
          "height": 424
        },
        "outputId": "49b59053-2dfb-4291-8135-2fb5bbb6cb0b"
      },
      "source": [
        "get_score(ABC(n_estimators=150,learning_rate=0.2),xtrain,xtest,ytrain,ytest)"
      ],
      "execution_count": 56,
      "outputs": [
        {
          "output_type": "display_data",
          "data": {
            "image/png": "[encoded data removed]",
            "text/plain": [
              "<Figure size 432x288 with 2 Axes>"
            ]
          },
          "metadata": {
            "tags": [],
            "needs_background": "light"
          }
        },
        {
          "output_type": "stream",
          "text": [
            "              precision    recall  f1-score   support\n",
            "\n",
            "           0       0.98      0.98      0.98       181\n",
            "           1       0.83      0.79      0.81        19\n",
            "\n",
            "    accuracy                           0.96       200\n",
            "   macro avg       0.91      0.89      0.90       200\n",
            "weighted avg       0.96      0.96      0.96       200\n",
            "\n"
          ],
          "name": "stdout"
        }
      ]
    },
    {
      "cell_type": "code",
      "metadata": {
        "id": "jH8JZF7Wsdb8",
        "colab_type": "code",
        "colab": {
          "base_uri": "https://localhost:8080/",
          "height": 424
        },
        "outputId": "ce1d060a-515b-43db-8d15-f6d3bbadac73"
      },
      "source": [
        "get_score(GBC(n_estimators=100,learning_rate=0.3),xtrain,xtest,ytrain,ytest)"
      ],
      "execution_count": 49,
      "outputs": [
        {
          "output_type": "display_data",
          "data": {
            "image/png": "[encoded data removed]",
            "text/plain": [
              "<Figure size 432x288 with 2 Axes>"
            ]
          },
          "metadata": {
            "tags": [],
            "needs_background": "light"
          }
        },
        {
          "output_type": "stream",
          "text": [
            "              precision    recall  f1-score   support\n",
            "\n",
            "           0       0.99      0.99      0.99       181\n",
            "           1       0.89      0.89      0.89        19\n",
            "\n",
            "    accuracy                           0.98       200\n",
            "   macro avg       0.94      0.94      0.94       200\n",
            "weighted avg       0.98      0.98      0.98       200\n",
            "\n"
          ],
          "name": "stdout"
        }
      ]
    },
    {
      "cell_type": "code",
      "metadata": {
        "id": "iTk_bdLZsdXO",
        "colab_type": "code",
        "colab": {
          "base_uri": "https://localhost:8080/",
          "height": 424
        },
        "outputId": "750601de-7ac8-4569-a10b-9e32737af0dd"
      },
      "source": [
        "get_score(SVC(degree=2),xtrain,xtest,ytrain,ytest)"
      ],
      "execution_count": 26,
      "outputs": [
        {
          "output_type": "display_data",
          "data": {
            "image/png": "[encoded data removed]",
            "text/plain": [
              "<Figure size 432x288 with 2 Axes>"
            ]
          },
          "metadata": {
            "tags": [],
            "needs_background": "light"
          }
        },
        {
          "output_type": "stream",
          "text": [
            "              precision    recall  f1-score   support\n",
            "\n",
            "           0       0.93      0.98      0.96       181\n",
            "           1       0.67      0.32      0.43        19\n",
            "\n",
            "    accuracy                           0.92       200\n",
            "   macro avg       0.80      0.65      0.69       200\n",
            "weighted avg       0.91      0.92      0.91       200\n",
            "\n"
          ],
          "name": "stdout"
        }
      ]
    },
    {
      "cell_type": "code",
      "metadata": {
        "id": "LqA3J0KVsdRh",
        "colab_type": "code",
        "colab": {
          "base_uri": "https://localhost:8080/",
          "height": 424
        },
        "outputId": "41514a00-653e-4dc8-e6f0-e004dc29341f"
      },
      "source": [
        "get_score(DTC(),xtrain,xtest,ytrain,ytest)"
      ],
      "execution_count": 27,
      "outputs": [
        {
          "output_type": "display_data",
          "data": {
            "image/png": "[encoded data removed]",
            "text/plain": [
              "<Figure size 432x288 with 2 Axes>"
            ]
          },
          "metadata": {
            "tags": [],
            "needs_background": "light"
          }
        },
        {
          "output_type": "stream",
          "text": [
            "              precision    recall  f1-score   support\n",
            "\n",
            "           0       0.98      0.98      0.98       181\n",
            "           1       0.80      0.84      0.82        19\n",
            "\n",
            "    accuracy                           0.96       200\n",
            "   macro avg       0.89      0.91      0.90       200\n",
            "weighted avg       0.97      0.96      0.97       200\n",
            "\n"
          ],
          "name": "stdout"
        }
      ]
    },
    {
      "cell_type": "code",
      "metadata": {
        "id": "5d-KFJm8ykUM",
        "colab_type": "code",
        "colab": {
          "base_uri": "https://localhost:8080/",
          "height": 407
        },
        "outputId": "3a9f950e-19fb-4919-a2d5-4d6d20854301"
      },
      "source": [
        "xtrain"
      ],
      "execution_count": 28,
      "outputs": [
        {
          "output_type": "execute_result",
          "data": {
            "text/html": [
              "<div>\n",
              "<style scoped>\n",
              "    .dataframe tbody tr th:only-of-type {\n",
              "        vertical-align: middle;\n",
              "    }\n",
              "\n",
              "    .dataframe tbody tr th {\n",
              "        vertical-align: top;\n",
              "    }\n",
              "\n",
              "    .dataframe thead th {\n",
              "        text-align: right;\n",
              "    }\n",
              "</style>\n",
              "<table border=\"1\" class=\"dataframe\">\n",
              "  <thead>\n",
              "    <tr style=\"text-align: right;\">\n",
              "      <th></th>\n",
              "      <th>Type1</th>\n",
              "      <th>Generation</th>\n",
              "      <th>Total</th>\n",
              "      <th>HP</th>\n",
              "      <th>Attack</th>\n",
              "      <th>Defense</th>\n",
              "      <th>SpAtk</th>\n",
              "      <th>SpDef</th>\n",
              "      <th>Speed</th>\n",
              "    </tr>\n",
              "  </thead>\n",
              "  <tbody>\n",
              "    <tr>\n",
              "      <th>4</th>\n",
              "      <td>6</td>\n",
              "      <td>1</td>\n",
              "      <td>309</td>\n",
              "      <td>39</td>\n",
              "      <td>52</td>\n",
              "      <td>43</td>\n",
              "      <td>60</td>\n",
              "      <td>50</td>\n",
              "      <td>65</td>\n",
              "    </tr>\n",
              "    <tr>\n",
              "      <th>573</th>\n",
              "      <td>6</td>\n",
              "      <td>5</td>\n",
              "      <td>498</td>\n",
              "      <td>75</td>\n",
              "      <td>98</td>\n",
              "      <td>63</td>\n",
              "      <td>98</td>\n",
              "      <td>63</td>\n",
              "      <td>101</td>\n",
              "    </tr>\n",
              "    <tr>\n",
              "      <th>185</th>\n",
              "      <td>17</td>\n",
              "      <td>2</td>\n",
              "      <td>460</td>\n",
              "      <td>125</td>\n",
              "      <td>58</td>\n",
              "      <td>58</td>\n",
              "      <td>76</td>\n",
              "      <td>76</td>\n",
              "      <td>67</td>\n",
              "    </tr>\n",
              "    <tr>\n",
              "      <th>598</th>\n",
              "      <td>5</td>\n",
              "      <td>5</td>\n",
              "      <td>465</td>\n",
              "      <td>120</td>\n",
              "      <td>100</td>\n",
              "      <td>85</td>\n",
              "      <td>30</td>\n",
              "      <td>85</td>\n",
              "      <td>45</td>\n",
              "    </tr>\n",
              "    <tr>\n",
              "      <th>289</th>\n",
              "      <td>0</td>\n",
              "      <td>3</td>\n",
              "      <td>205</td>\n",
              "      <td>50</td>\n",
              "      <td>35</td>\n",
              "      <td>55</td>\n",
              "      <td>25</td>\n",
              "      <td>25</td>\n",
              "      <td>15</td>\n",
              "    </tr>\n",
              "    <tr>\n",
              "      <th>...</th>\n",
              "      <td>...</td>\n",
              "      <td>...</td>\n",
              "      <td>...</td>\n",
              "      <td>...</td>\n",
              "      <td>...</td>\n",
              "      <td>...</td>\n",
              "      <td>...</td>\n",
              "      <td>...</td>\n",
              "      <td>...</td>\n",
              "    </tr>\n",
              "    <tr>\n",
              "      <th>407</th>\n",
              "      <td>2</td>\n",
              "      <td>3</td>\n",
              "      <td>420</td>\n",
              "      <td>65</td>\n",
              "      <td>95</td>\n",
              "      <td>100</td>\n",
              "      <td>60</td>\n",
              "      <td>50</td>\n",
              "      <td>50</td>\n",
              "    </tr>\n",
              "    <tr>\n",
              "      <th>140</th>\n",
              "      <td>17</td>\n",
              "      <td>1</td>\n",
              "      <td>540</td>\n",
              "      <td>95</td>\n",
              "      <td>125</td>\n",
              "      <td>79</td>\n",
              "      <td>60</td>\n",
              "      <td>100</td>\n",
              "      <td>81</td>\n",
              "    </tr>\n",
              "    <tr>\n",
              "      <th>318</th>\n",
              "      <td>12</td>\n",
              "      <td>3</td>\n",
              "      <td>360</td>\n",
              "      <td>84</td>\n",
              "      <td>71</td>\n",
              "      <td>43</td>\n",
              "      <td>71</td>\n",
              "      <td>43</td>\n",
              "      <td>48</td>\n",
              "    </tr>\n",
              "    <tr>\n",
              "      <th>463</th>\n",
              "      <td>0</td>\n",
              "      <td>4</td>\n",
              "      <td>474</td>\n",
              "      <td>70</td>\n",
              "      <td>80</td>\n",
              "      <td>102</td>\n",
              "      <td>80</td>\n",
              "      <td>102</td>\n",
              "      <td>40</td>\n",
              "    </tr>\n",
              "    <tr>\n",
              "      <th>348</th>\n",
              "      <td>17</td>\n",
              "      <td>3</td>\n",
              "      <td>460</td>\n",
              "      <td>70</td>\n",
              "      <td>120</td>\n",
              "      <td>40</td>\n",
              "      <td>95</td>\n",
              "      <td>40</td>\n",
              "      <td>95</td>\n",
              "    </tr>\n",
              "  </tbody>\n",
              "</table>\n",
              "<p>600 rows × 9 columns</p>\n",
              "</div>"
            ],
            "text/plain": [
              "     Type1  Generation  Total   HP  Attack  Defense  SpAtk  SpDef  Speed\n",
              "4        6           1    309   39      52       43     60     50     65\n",
              "573      6           5    498   75      98       63     98     63    101\n",
              "185     17           2    460  125      58       58     76     76     67\n",
              "598      5           5    465  120     100       85     30     85     45\n",
              "289      0           3    205   50      35       55     25     25     15\n",
              "..     ...         ...    ...  ...     ...      ...    ...    ...    ...\n",
              "407      2           3    420   65      95      100     60     50     50\n",
              "140     17           1    540   95     125       79     60    100     81\n",
              "318     12           3    360   84      71       43     71     43     48\n",
              "463      0           4    474   70      80      102     80    102     40\n",
              "348     17           3    460   70     120       40     95     40     95\n",
              "\n",
              "[600 rows x 9 columns]"
            ]
          },
          "metadata": {
            "tags": []
          },
          "execution_count": 28
        }
      ]
    },
    {
      "cell_type": "code",
      "metadata": {
        "id": "ILgsaQZWsdOG",
        "colab_type": "code",
        "colab": {
          "base_uri": "https://localhost:8080/",
          "height": 175
        },
        "outputId": "995f6b9f-e125-4569-db2c-7baba895cf1f"
      },
      "source": [
        "from imblearn.over_sampling import SMOTENC\n",
        "sm=SMOTENC(categorical_features=[0,1])\n",
        "xtrain1,ytrain1=sm.fit_resample(xtrain, ytrain)"
      ],
      "execution_count": 29,
      "outputs": [
        {
          "output_type": "stream",
          "text": [
            "/usr/local/lib/python3.6/dist-packages/sklearn/externals/six.py:31: FutureWarning: The module is deprecated in version 0.21 and will be removed in version 0.23 since we've dropped support for Python 2.7. Please rely on the official version of six (https://pypi.org/project/six/).\n",
            "  \"(https://pypi.org/project/six/).\", FutureWarning)\n",
            "/usr/local/lib/python3.6/dist-packages/sklearn/utils/deprecation.py:144: FutureWarning: The sklearn.neighbors.base module is  deprecated in version 0.22 and will be removed in version 0.24. The corresponding classes / functions should instead be imported from sklearn.neighbors. Anything that cannot be imported from sklearn.neighbors is now part of the private API.\n",
            "  warnings.warn(message, FutureWarning)\n",
            "/usr/local/lib/python3.6/dist-packages/sklearn/utils/deprecation.py:87: FutureWarning: Function safe_indexing is deprecated; safe_indexing is deprecated in version 0.22 and will be removed in version 0.24.\n",
            "  warnings.warn(msg, category=FutureWarning)\n",
            "/usr/local/lib/python3.6/dist-packages/sklearn/utils/deprecation.py:87: FutureWarning: Function safe_indexing is deprecated; safe_indexing is deprecated in version 0.22 and will be removed in version 0.24.\n",
            "  warnings.warn(msg, category=FutureWarning)\n"
          ],
          "name": "stderr"
        }
      ]
    },
    {
      "cell_type": "code",
      "metadata": {
        "id": "j8i9mKmWy4lJ",
        "colab_type": "code",
        "colab": {
          "base_uri": "https://localhost:8080/",
          "height": 308
        },
        "outputId": "1d05eba0-4a32-46dd-9bc0-5c48c965f5c6"
      },
      "source": [
        "pd.DataFrame(xtrain1).describe()"
      ],
      "execution_count": 30,
      "outputs": [
        {
          "output_type": "execute_result",
          "data": {
            "text/html": [
              "<div>\n",
              "<style scoped>\n",
              "    .dataframe tbody tr th:only-of-type {\n",
              "        vertical-align: middle;\n",
              "    }\n",
              "\n",
              "    .dataframe tbody tr th {\n",
              "        vertical-align: top;\n",
              "    }\n",
              "\n",
              "    .dataframe thead th {\n",
              "        text-align: right;\n",
              "    }\n",
              "</style>\n",
              "<table border=\"1\" class=\"dataframe\">\n",
              "  <thead>\n",
              "    <tr style=\"text-align: right;\">\n",
              "      <th></th>\n",
              "      <th>0</th>\n",
              "      <th>1</th>\n",
              "      <th>2</th>\n",
              "      <th>3</th>\n",
              "      <th>4</th>\n",
              "      <th>5</th>\n",
              "      <th>6</th>\n",
              "      <th>7</th>\n",
              "      <th>8</th>\n",
              "    </tr>\n",
              "  </thead>\n",
              "  <tbody>\n",
              "    <tr>\n",
              "      <th>count</th>\n",
              "      <td>1108.000000</td>\n",
              "      <td>1108.000000</td>\n",
              "      <td>1108.000000</td>\n",
              "      <td>1108.000000</td>\n",
              "      <td>1108.000000</td>\n",
              "      <td>1108.000000</td>\n",
              "      <td>1108.000000</td>\n",
              "      <td>1108.000000</td>\n",
              "      <td>1108.000000</td>\n",
              "    </tr>\n",
              "    <tr>\n",
              "      <th>mean</th>\n",
              "      <td>8.691336</td>\n",
              "      <td>3.752708</td>\n",
              "      <td>526.743068</td>\n",
              "      <td>80.800325</td>\n",
              "      <td>96.030297</td>\n",
              "      <td>85.597007</td>\n",
              "      <td>95.322420</td>\n",
              "      <td>86.548461</td>\n",
              "      <td>82.444558</td>\n",
              "    </tr>\n",
              "    <tr>\n",
              "      <th>std</th>\n",
              "      <td>5.822149</td>\n",
              "      <td>1.518403</td>\n",
              "      <td>136.516478</td>\n",
              "      <td>26.003312</td>\n",
              "      <td>34.936213</td>\n",
              "      <td>30.928666</td>\n",
              "      <td>38.105555</td>\n",
              "      <td>30.086305</td>\n",
              "      <td>27.644917</td>\n",
              "    </tr>\n",
              "    <tr>\n",
              "      <th>min</th>\n",
              "      <td>0.000000</td>\n",
              "      <td>1.000000</td>\n",
              "      <td>190.000000</td>\n",
              "      <td>1.000000</td>\n",
              "      <td>5.000000</td>\n",
              "      <td>5.000000</td>\n",
              "      <td>10.000000</td>\n",
              "      <td>20.000000</td>\n",
              "      <td>5.000000</td>\n",
              "    </tr>\n",
              "    <tr>\n",
              "      <th>25%</th>\n",
              "      <td>3.000000</td>\n",
              "      <td>3.000000</td>\n",
              "      <td>429.500000</td>\n",
              "      <td>60.000000</td>\n",
              "      <td>72.000000</td>\n",
              "      <td>65.000000</td>\n",
              "      <td>65.000000</td>\n",
              "      <td>65.000000</td>\n",
              "      <td>60.211288</td>\n",
              "    </tr>\n",
              "    <tr>\n",
              "      <th>50%</th>\n",
              "      <td>9.000000</td>\n",
              "      <td>4.000000</td>\n",
              "      <td>580.000000</td>\n",
              "      <td>79.824198</td>\n",
              "      <td>97.162188</td>\n",
              "      <td>85.000000</td>\n",
              "      <td>95.381094</td>\n",
              "      <td>87.121050</td>\n",
              "      <td>90.000000</td>\n",
              "    </tr>\n",
              "    <tr>\n",
              "      <th>75%</th>\n",
              "      <td>14.000000</td>\n",
              "      <td>5.000000</td>\n",
              "      <td>600.000000</td>\n",
              "      <td>99.697051</td>\n",
              "      <td>120.000000</td>\n",
              "      <td>100.000000</td>\n",
              "      <td>125.000000</td>\n",
              "      <td>103.774193</td>\n",
              "      <td>100.388792</td>\n",
              "    </tr>\n",
              "    <tr>\n",
              "      <th>max</th>\n",
              "      <td>17.000000</td>\n",
              "      <td>6.000000</td>\n",
              "      <td>780.000000</td>\n",
              "      <td>255.000000</td>\n",
              "      <td>190.000000</td>\n",
              "      <td>230.000000</td>\n",
              "      <td>180.000000</td>\n",
              "      <td>230.000000</td>\n",
              "      <td>150.000000</td>\n",
              "    </tr>\n",
              "  </tbody>\n",
              "</table>\n",
              "</div>"
            ],
            "text/plain": [
              "                 0            1  ...            7            8\n",
              "count  1108.000000  1108.000000  ...  1108.000000  1108.000000\n",
              "mean      8.691336     3.752708  ...    86.548461    82.444558\n",
              "std       5.822149     1.518403  ...    30.086305    27.644917\n",
              "min       0.000000     1.000000  ...    20.000000     5.000000\n",
              "25%       3.000000     3.000000  ...    65.000000    60.211288\n",
              "50%       9.000000     4.000000  ...    87.121050    90.000000\n",
              "75%      14.000000     5.000000  ...   103.774193   100.388792\n",
              "max      17.000000     6.000000  ...   230.000000   150.000000\n",
              "\n",
              "[8 rows x 9 columns]"
            ]
          },
          "metadata": {
            "tags": []
          },
          "execution_count": 30
        }
      ]
    },
    {
      "cell_type": "code",
      "metadata": {
        "id": "3CVGo204ziPy",
        "colab_type": "code",
        "colab": {
          "base_uri": "https://localhost:8080/",
          "height": 830
        },
        "outputId": "9ae91dcd-5bd9-41e9-8cab-687c463a9932"
      },
      "source": [
        "get_score(LR(max_iter=1000),xtrain,xtest,ytrain,ytest)\n",
        "get_score(LR(max_iter=1000),xtrain1,xtest,ytrain1,ytest)"
      ],
      "execution_count": 31,
      "outputs": [
        {
          "output_type": "display_data",
          "data": {
            "image/png": "[encoded data removed]",
            "text/plain": [
              "<Figure size 432x288 with 2 Axes>"
            ]
          },
          "metadata": {
            "tags": [],
            "needs_background": "light"
          }
        },
        {
          "output_type": "stream",
          "text": [
            "              precision    recall  f1-score   support\n",
            "\n",
            "           0       0.96      0.98      0.97       181\n",
            "           1       0.73      0.58      0.65        19\n",
            "\n",
            "    accuracy                           0.94       200\n",
            "   macro avg       0.85      0.78      0.81       200\n",
            "weighted avg       0.94      0.94      0.94       200\n",
            "\n"
          ],
          "name": "stdout"
        },
        {
          "output_type": "display_data",
          "data": {
            "image/png": "[encoded data removed]",
            "text/plain": [
              "<Figure size 432x288 with 2 Axes>"
            ]
          },
          "metadata": {
            "tags": [],
            "needs_background": "light"
          }
        },
        {
          "output_type": "stream",
          "text": [
            "              precision    recall  f1-score   support\n",
            "\n",
            "           0       0.99      0.94      0.96       181\n",
            "           1       0.61      0.89      0.72        19\n",
            "\n",
            "    accuracy                           0.94       200\n",
            "   macro avg       0.80      0.92      0.84       200\n",
            "weighted avg       0.95      0.94      0.94       200\n",
            "\n"
          ],
          "name": "stdout"
        }
      ]
    },
    {
      "cell_type": "code",
      "metadata": {
        "id": "1zoWQCwS0BKe",
        "colab_type": "code",
        "colab": {
          "base_uri": "https://localhost:8080/",
          "height": 830
        },
        "outputId": "5c2bf570-cd2d-40ac-d8ca-b6af4cc13d4c"
      },
      "source": [
        "get_score(RFC(n_estimators=150),xtrain,xtest,ytrain,ytest)\n",
        "get_score(RFC(n_estimators=120),xtrain1,xtest,ytrain1,ytest)"
      ],
      "execution_count": 60,
      "outputs": [
        {
          "output_type": "display_data",
          "data": {
            "image/png": "[encoded data removed]",
            "text/plain": [
              "<Figure size 432x288 with 2 Axes>"
            ]
          },
          "metadata": {
            "tags": [],
            "needs_background": "light"
          }
        },
        {
          "output_type": "stream",
          "text": [
            "              precision    recall  f1-score   support\n",
            "\n",
            "           0       0.95      0.98      0.97       181\n",
            "           1       0.77      0.53      0.62        19\n",
            "\n",
            "    accuracy                           0.94       200\n",
            "   macro avg       0.86      0.75      0.80       200\n",
            "weighted avg       0.93      0.94      0.93       200\n",
            "\n"
          ],
          "name": "stdout"
        },
        {
          "output_type": "display_data",
          "data": {
            "image/png": "[encoded data removed]",
            "text/plain": [
              "<Figure size 432x288 with 2 Axes>"
            ]
          },
          "metadata": {
            "tags": [],
            "needs_background": "light"
          }
        },
        {
          "output_type": "stream",
          "text": [
            "              precision    recall  f1-score   support\n",
            "\n",
            "           0       0.99      0.98      0.98       181\n",
            "           1       0.81      0.89      0.85        19\n",
            "\n",
            "    accuracy                           0.97       200\n",
            "   macro avg       0.90      0.94      0.92       200\n",
            "weighted avg       0.97      0.97      0.97       200\n",
            "\n"
          ],
          "name": "stdout"
        }
      ]
    },
    {
      "cell_type": "code",
      "metadata": {
        "id": "B0oz9T2i0ekz",
        "colab_type": "code",
        "colab": {
          "base_uri": "https://localhost:8080/",
          "height": 830
        },
        "outputId": "830774a6-3b98-403a-f882-365b0c641ab8"
      },
      "source": [
        "get_score(ABC(n_estimators=140,learning_rate=0.1),xtrain,xtest,ytrain,ytest)\n",
        "get_score(ABC(n_estimators=100,learning_rate=0.1),xtrain1,xtest,ytrain1,ytest)"
      ],
      "execution_count": 86,
      "outputs": [
        {
          "output_type": "display_data",
          "data": {
            "image/png": "[encoded data removed]",
            "text/plain": [
              "<Figure size 432x288 with 2 Axes>"
            ]
          },
          "metadata": {
            "tags": [],
            "needs_background": "light"
          }
        },
        {
          "output_type": "stream",
          "text": [
            "              precision    recall  f1-score   support\n",
            "\n",
            "           0       0.97      0.98      0.98       181\n",
            "           1       0.82      0.74      0.78        19\n",
            "\n",
            "    accuracy                           0.96       200\n",
            "   macro avg       0.90      0.86      0.88       200\n",
            "weighted avg       0.96      0.96      0.96       200\n",
            "\n"
          ],
          "name": "stdout"
        },
        {
          "output_type": "display_data",
          "data": {
            "image/png": "[encoded data removed]",
            "text/plain": [
              "<Figure size 432x288 with 2 Axes>"
            ]
          },
          "metadata": {
            "tags": [],
            "needs_background": "light"
          }
        },
        {
          "output_type": "stream",
          "text": [
            "              precision    recall  f1-score   support\n",
            "\n",
            "           0       1.00      0.97      0.98       181\n",
            "           1       0.76      1.00      0.86        19\n",
            "\n",
            "    accuracy                           0.97       200\n",
            "   macro avg       0.88      0.98      0.92       200\n",
            "weighted avg       0.98      0.97      0.97       200\n",
            "\n"
          ],
          "name": "stdout"
        }
      ]
    },
    {
      "cell_type": "code",
      "metadata": {
        "id": "kLlv7QR71ja8",
        "colab_type": "code",
        "colab": {
          "base_uri": "https://localhost:8080/",
          "height": 830
        },
        "outputId": "f9d31b63-9ec4-4dde-ac91-4a1494ae0241"
      },
      "source": [
        "get_score(GBC(n_estimators=120,learning_rate=.23),xtrain,xtest,ytrain,ytest)\n",
        "get_score(GBC(n_estimators=150,learning_rate=.18),xtrain1,xtest,ytrain1,ytest)"
      ],
      "execution_count": 94,
      "outputs": [
        {
          "output_type": "display_data",
          "data": {
            "image/png": "[encoded data removed]",
            "text/plain": [
              "<Figure size 432x288 with 2 Axes>"
            ]
          },
          "metadata": {
            "tags": [],
            "needs_background": "light"
          }
        },
        {
          "output_type": "stream",
          "text": [
            "              precision    recall  f1-score   support\n",
            "\n",
            "           0       0.98      0.98      0.98       181\n",
            "           1       0.79      0.79      0.79        19\n",
            "\n",
            "    accuracy                           0.96       200\n",
            "   macro avg       0.88      0.88      0.88       200\n",
            "weighted avg       0.96      0.96      0.96       200\n",
            "\n"
          ],
          "name": "stdout"
        },
        {
          "output_type": "display_data",
          "data": {
            "image/png": "[encoded data removed]",
            "text/plain": [
              "<Figure size 432x288 with 2 Axes>"
            ]
          },
          "metadata": {
            "tags": [],
            "needs_background": "light"
          }
        },
        {
          "output_type": "stream",
          "text": [
            "              precision    recall  f1-score   support\n",
            "\n",
            "           0       0.99      0.98      0.99       181\n",
            "           1       0.82      0.95      0.88        19\n",
            "\n",
            "    accuracy                           0.97       200\n",
            "   macro avg       0.91      0.96      0.93       200\n",
            "weighted avg       0.98      0.97      0.98       200\n",
            "\n"
          ],
          "name": "stdout"
        }
      ]
    },
    {
      "cell_type": "code",
      "metadata": {
        "id": "mc8kEtDv_biI",
        "colab_type": "code",
        "colab": {}
      },
      "source": [
        ""
      ],
      "execution_count": null,
      "outputs": []
    }
  ]
}