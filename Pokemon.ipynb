{
  "nbformat": 4,
  "nbformat_minor": 0,
  "metadata": {
    "colab": {
      "name": "Pokemon.ipynb",
      "provenance": [],
      "authorship_tag": "ABX9TyOCw+ztvhib9uishOSUzWv/",
      "include_colab_link": true
    },
    "kernelspec": {
      "name": "python3",
      "display_name": "Python 3"
    }
  },
  "cells": [
    {
      "cell_type": "markdown",
      "metadata": {
        "id": "view-in-github",
        "colab_type": "text"
      },
      "source": [
        "<a href=\"https://colab.research.google.com/github/Amulya-Anurag/Pokemon-Dataset/blob/master/Pokemon.ipynb\" target=\"_parent\"><img src=\"https://colab.research.google.com/assets/colab-badge.svg\" alt=\"Open In Colab\"/></a>"
      ]
    },
    {
      "cell_type": "markdown",
      "metadata": {
        "id": "HAVXEdE8JIkV",
        "colab_type": "text"
      },
      "source": [
        "Import Relevent libraries\n"
      ]
    },
    {
      "cell_type": "code",
      "metadata": {
        "id": "ZFhgRpKISKnR",
        "colab_type": "code",
        "colab": {
          "base_uri": "https://localhost:8080/",
          "height": 72
        },
        "outputId": "d19b44c9-b08a-497d-954e-fba7fc248079"
      },
      "source": [
        "import numpy as np\n",
        "import pandas as pd\n",
        "import matplotlib.pyplot as plt\n",
        "import seaborn as sns\n",
        "sns.set()\n",
        "import warnings"
      ],
      "execution_count": 1,
      "outputs": [
        {
          "output_type": "stream",
          "text": [
            "/usr/local/lib/python3.6/dist-packages/statsmodels/tools/_testing.py:19: FutureWarning: pandas.util.testing is deprecated. Use the functions in the public API at pandas.testing instead.\n",
            "  import pandas.util.testing as tm\n"
          ],
          "name": "stderr"
        }
      ]
    },
    {
      "cell_type": "markdown",
      "metadata": {
        "id": "NGuBm3xVJVRY",
        "colab_type": "text"
      },
      "source": [
        "Load The DataSet\n"
      ]
    },
    {
      "cell_type": "code",
      "metadata": {
        "id": "vWH2F-QuSMhv",
        "colab_type": "code",
        "colab": {
          "base_uri": "https://localhost:8080/",
          "height": 288
        },
        "outputId": "f00cda33-a3a5-4ecc-d9fe-618c5963982c"
      },
      "source": [
        "df= pd.read_csv('/content/Pokemon.csv')\n",
        "df.describe()"
      ],
      "execution_count": 2,
      "outputs": [
        {
          "output_type": "execute_result",
          "data": {
            "text/html": [
              "<div>\n",
              "<style scoped>\n",
              "    .dataframe tbody tr th:only-of-type {\n",
              "        vertical-align: middle;\n",
              "    }\n",
              "\n",
              "    .dataframe tbody tr th {\n",
              "        vertical-align: top;\n",
              "    }\n",
              "\n",
              "    .dataframe thead th {\n",
              "        text-align: right;\n",
              "    }\n",
              "</style>\n",
              "<table border=\"1\" class=\"dataframe\">\n",
              "  <thead>\n",
              "    <tr style=\"text-align: right;\">\n",
              "      <th></th>\n",
              "      <th>#</th>\n",
              "      <th>Total</th>\n",
              "      <th>HP</th>\n",
              "      <th>Attack</th>\n",
              "      <th>Defense</th>\n",
              "      <th>Sp. Atk</th>\n",
              "      <th>Sp. Def</th>\n",
              "      <th>Speed</th>\n",
              "      <th>Generation</th>\n",
              "    </tr>\n",
              "  </thead>\n",
              "  <tbody>\n",
              "    <tr>\n",
              "      <th>count</th>\n",
              "      <td>800.000000</td>\n",
              "      <td>800.00000</td>\n",
              "      <td>800.000000</td>\n",
              "      <td>800.000000</td>\n",
              "      <td>800.000000</td>\n",
              "      <td>800.000000</td>\n",
              "      <td>800.000000</td>\n",
              "      <td>800.000000</td>\n",
              "      <td>800.00000</td>\n",
              "    </tr>\n",
              "    <tr>\n",
              "      <th>mean</th>\n",
              "      <td>362.813750</td>\n",
              "      <td>435.10250</td>\n",
              "      <td>69.258750</td>\n",
              "      <td>79.001250</td>\n",
              "      <td>73.842500</td>\n",
              "      <td>72.820000</td>\n",
              "      <td>71.902500</td>\n",
              "      <td>68.277500</td>\n",
              "      <td>3.32375</td>\n",
              "    </tr>\n",
              "    <tr>\n",
              "      <th>std</th>\n",
              "      <td>208.343798</td>\n",
              "      <td>119.96304</td>\n",
              "      <td>25.534669</td>\n",
              "      <td>32.457366</td>\n",
              "      <td>31.183501</td>\n",
              "      <td>32.722294</td>\n",
              "      <td>27.828916</td>\n",
              "      <td>29.060474</td>\n",
              "      <td>1.66129</td>\n",
              "    </tr>\n",
              "    <tr>\n",
              "      <th>min</th>\n",
              "      <td>1.000000</td>\n",
              "      <td>180.00000</td>\n",
              "      <td>1.000000</td>\n",
              "      <td>5.000000</td>\n",
              "      <td>5.000000</td>\n",
              "      <td>10.000000</td>\n",
              "      <td>20.000000</td>\n",
              "      <td>5.000000</td>\n",
              "      <td>1.00000</td>\n",
              "    </tr>\n",
              "    <tr>\n",
              "      <th>25%</th>\n",
              "      <td>184.750000</td>\n",
              "      <td>330.00000</td>\n",
              "      <td>50.000000</td>\n",
              "      <td>55.000000</td>\n",
              "      <td>50.000000</td>\n",
              "      <td>49.750000</td>\n",
              "      <td>50.000000</td>\n",
              "      <td>45.000000</td>\n",
              "      <td>2.00000</td>\n",
              "    </tr>\n",
              "    <tr>\n",
              "      <th>50%</th>\n",
              "      <td>364.500000</td>\n",
              "      <td>450.00000</td>\n",
              "      <td>65.000000</td>\n",
              "      <td>75.000000</td>\n",
              "      <td>70.000000</td>\n",
              "      <td>65.000000</td>\n",
              "      <td>70.000000</td>\n",
              "      <td>65.000000</td>\n",
              "      <td>3.00000</td>\n",
              "    </tr>\n",
              "    <tr>\n",
              "      <th>75%</th>\n",
              "      <td>539.250000</td>\n",
              "      <td>515.00000</td>\n",
              "      <td>80.000000</td>\n",
              "      <td>100.000000</td>\n",
              "      <td>90.000000</td>\n",
              "      <td>95.000000</td>\n",
              "      <td>90.000000</td>\n",
              "      <td>90.000000</td>\n",
              "      <td>5.00000</td>\n",
              "    </tr>\n",
              "    <tr>\n",
              "      <th>max</th>\n",
              "      <td>721.000000</td>\n",
              "      <td>780.00000</td>\n",
              "      <td>255.000000</td>\n",
              "      <td>190.000000</td>\n",
              "      <td>230.000000</td>\n",
              "      <td>194.000000</td>\n",
              "      <td>230.000000</td>\n",
              "      <td>180.000000</td>\n",
              "      <td>6.00000</td>\n",
              "    </tr>\n",
              "  </tbody>\n",
              "</table>\n",
              "</div>"
            ],
            "text/plain": [
              "                #      Total          HP  ...     Sp. Def       Speed  Generation\n",
              "count  800.000000  800.00000  800.000000  ...  800.000000  800.000000   800.00000\n",
              "mean   362.813750  435.10250   69.258750  ...   71.902500   68.277500     3.32375\n",
              "std    208.343798  119.96304   25.534669  ...   27.828916   29.060474     1.66129\n",
              "min      1.000000  180.00000    1.000000  ...   20.000000    5.000000     1.00000\n",
              "25%    184.750000  330.00000   50.000000  ...   50.000000   45.000000     2.00000\n",
              "50%    364.500000  450.00000   65.000000  ...   70.000000   65.000000     3.00000\n",
              "75%    539.250000  515.00000   80.000000  ...   90.000000   90.000000     5.00000\n",
              "max    721.000000  780.00000  255.000000  ...  230.000000  180.000000     6.00000\n",
              "\n",
              "[8 rows x 9 columns]"
            ]
          },
          "metadata": {
            "tags": []
          },
          "execution_count": 2
        }
      ]
    },
    {
      "cell_type": "code",
      "metadata": {
        "id": "zKGHOiPMSPvS",
        "colab_type": "code",
        "colab": {
          "base_uri": "https://localhost:8080/",
          "height": 242
        },
        "outputId": "bc9d9596-be74-4004-f542-606818d67967"
      },
      "source": [
        "df=df.drop('#',axis=1)\n",
        "df.isna().sum()"
      ],
      "execution_count": 3,
      "outputs": [
        {
          "output_type": "execute_result",
          "data": {
            "text/plain": [
              "Name            0\n",
              "Type 1          0\n",
              "Type 2        386\n",
              "Total           0\n",
              "HP              0\n",
              "Attack          0\n",
              "Defense         0\n",
              "Sp. Atk         0\n",
              "Sp. Def         0\n",
              "Speed           0\n",
              "Generation      0\n",
              "Legendary       0\n",
              "dtype: int64"
            ]
          },
          "metadata": {
            "tags": []
          },
          "execution_count": 3
        }
      ]
    },
    {
      "cell_type": "markdown",
      "metadata": {
        "id": "swcNOyp0Jgzt",
        "colab_type": "text"
      },
      "source": [
        "A lot of null values in TYPE 2"
      ]
    },
    {
      "cell_type": "code",
      "metadata": {
        "id": "Q-P8vXf0UV11",
        "colab_type": "code",
        "colab": {}
      },
      "source": [
        "#Create a check point with dropping Type2 \n",
        "df1=df.drop('Type 2',axis=1)\n",
        "# Rearrange the column name for convenience \n",
        "\n",
        "df1.columns= ['Name', 'Type1', 'Total', 'HP', 'Attack', 'Defense',\n",
        "       'SpAtk', 'SpDef', 'Speed', 'Generation', 'Legendary']"
      ],
      "execution_count": 4,
      "outputs": []
    },
    {
      "cell_type": "code",
      "metadata": {
        "id": "QJdhFIRcXKvn",
        "colab_type": "code",
        "colab": {
          "base_uri": "https://localhost:8080/",
          "height": 302
        },
        "outputId": "50951981-0126-46c1-9945-907069c984e7"
      },
      "source": [
        "#lets check target values\n",
        "sns.countplot(df.Legendary)\n",
        "#This count shows the dataset is highly unbalnced"
      ],
      "execution_count": 5,
      "outputs": [
        {
          "output_type": "execute_result",
          "data": {
            "text/plain": [
              "<matplotlib.axes._subplots.AxesSubplot at 0x7f03415e3b00>"
            ]
          },
          "metadata": {
            "tags": []
          },
          "execution_count": 5
        },
        {
          "output_type": "display_data",
          "data": {
            "image/png": "[encoded data removed]",
            "text/plain": [
              "<Figure size 432x288 with 1 Axes>"
            ]
          },
          "metadata": {
            "tags": [],
            "needs_background": "light"
          }
        }
      ]
    },
    {
      "cell_type": "code",
      "metadata": {
        "id": "qYOpxWO5YfLf",
        "colab_type": "code",
        "colab": {
          "base_uri": "https://localhost:8080/",
          "height": 781
        },
        "outputId": "73180d91-0dea-4ead-991c-977458ac598c"
      },
      "source": [
        "fig,axes=plt.subplots(2, 3, figsize=(7, 7), sharex=True)\n",
        "for i in range(6):\n",
        "\n",
        "  sns.distplot(df1[df1.columns[2+i]],ax=axes[i//3,i%3],color=\"b\", kde_kws={\"shade\": True})\n",
        "\n",
        "  plt.setp(axes, yticks=[])\n",
        "  plt.tight_layout()\n",
        "plt.show()\n",
        "\n",
        "sns.distplot(df.Speed)\n",
        "plt.show()"
      ],
      "execution_count": 6,
      "outputs": [
        {
          "output_type": "display_data",
          "data": {
            "image/png": "[encoded data removed]",
            "text/plain": [
              "<Figure size 504x504 with 6 Axes>"
            ]
          },
          "metadata": {
            "tags": [],
            "needs_background": "light"
          }
        },
        {
          "output_type": "display_data",
          "data": {
            "image/png": "[encoded data removed]",
            "text/plain": [
              "<Figure size 432x288 with 1 Axes>"
            ]
          },
          "metadata": {
            "tags": [],
            "needs_background": "light"
          }
        }
      ]
    },
    {
      "cell_type": "code",
      "metadata": {
        "id": "vfJgJwYuemvl",
        "colab_type": "code",
        "colab": {}
      },
      "source": [
        "#Re organise the columns for convenience and create a checkpoint\n",
        "\n",
        "df1=df1[['Name', 'Type1', 'Generation','Total','HP', 'Attack', 'Defense', 'SpAtk',\n",
        "       'SpDef', 'Speed', 'Legendary']]\n",
        "df2=df1.drop('Name',axis=1)"
      ],
      "execution_count": 7,
      "outputs": []
    },
    {
      "cell_type": "markdown",
      "metadata": {
        "id": "FZoAKaK_OBYX",
        "colab_type": "text"
      },
      "source": [
        "Let's Encode the Categorical Features\n"
      ]
    },
    {
      "cell_type": "code",
      "metadata": {
        "id": "xgoMrO52h9Xk",
        "colab_type": "code",
        "colab": {}
      },
      "source": [
        "from sklearn.preprocessing import LabelEncoder \n",
        "  \n",
        "le = LabelEncoder() \n",
        "  \n",
        "df2['Type1']= le.fit_transform(df2['Type1']) \n",
        "df2['Legendary']= le.fit_transform(df2['Legendary']) \n",
        "\n",
        "#checkpoint \n",
        "df3=df2.copy()"
      ],
      "execution_count": 8,
      "outputs": []
    },
    {
      "cell_type": "code",
      "metadata": {
        "id": "a4HQhorpj-mu",
        "colab_type": "code",
        "colab": {}
      },
      "source": [
        "#Classify inputs and targets\n",
        "inputs= df3.drop('Legendary',axis=1)\n",
        "targets=df3.Legendary"
      ],
      "execution_count": 9,
      "outputs": []
    },
    {
      "cell_type": "code",
      "metadata": {
        "id": "lHQwbopukcOK",
        "colab_type": "code",
        "colab": {}
      },
      "source": [
        "# Seggregate data into train and test data\n",
        "from sklearn.model_selection import train_test_split as tts\n",
        "xtrain,xtest,ytrain,ytest=tts(inputs,targets,random_state=400)"
      ],
      "execution_count": 10,
      "outputs": []
    },
    {
      "cell_type": "markdown",
      "metadata": {
        "id": "pXmDIl4BOmwD",
        "colab_type": "text"
      },
      "source": [
        "Import the classifiers"
      ]
    },
    {
      "cell_type": "code",
      "metadata": {
        "id": "qSgVdU6Dktpj",
        "colab_type": "code",
        "colab": {}
      },
      "source": [
        "from sklearn.linear_model import LogisticRegression as LR\n",
        "from sklearn.ensemble import RandomForestClassifier as RFC\n",
        "from sklearn.ensemble import AdaBoostClassifier as ABC\n",
        "from sklearn.ensemble import  GradientBoostingClassifier as GBC\n",
        "from sklearn.metrics import classification_report as CR, confusion_matrix as CM"
      ],
      "execution_count": 11,
      "outputs": []
    },
    {
      "cell_type": "markdown",
      "metadata": {
        "id": "Fh_m6ePAOtyR",
        "colab_type": "text"
      },
      "source": [
        "Define a function for Classification"
      ]
    },
    {
      "cell_type": "code",
      "metadata": {
        "id": "I8ogbh-PlstJ",
        "colab_type": "code",
        "colab": {}
      },
      "source": [
        "def get_score(model,xtrain,xtest,ytrain,ytest):\n",
        "  reg=model\n",
        "  reg.fit(xtrain,ytrain)\n",
        "  ypred=reg.predict(xtest)\n",
        "  sns.heatmap(CM(ytest,ypred),annot=True,fmt=\"d\")\n",
        "  plt.show()\n",
        "  print(CR(ytest,ypred))\n"
      ],
      "execution_count": 12,
      "outputs": []
    },
    {
      "cell_type": "code",
      "metadata": {
        "id": "w0Y9gL08mvoA",
        "colab_type": "code",
        "colab": {
          "base_uri": "https://localhost:8080/",
          "height": 424
        },
        "outputId": "ed846d24-1573-45e4-c2a8-8b908431d809"
      },
      "source": [
        "get_score(LR(max_iter=1000),xtrain,xtest,ytrain,ytest)\n",
        "# accuracy is 94% But recall of 1 is very poors"
      ],
      "execution_count": 13,
      "outputs": [
        {
          "output_type": "display_data",
          "data": {
            "image/png": "[encoded data removed]",
            "text/plain": [
              "<Figure size 432x288 with 2 Axes>"
            ]
          },
          "metadata": {
            "tags": [],
            "needs_background": "light"
          }
        },
        {
          "output_type": "stream",
          "text": [
            "              precision    recall  f1-score   support\n",
            "\n",
            "           0       0.96      0.98      0.97       181\n",
            "           1       0.73      0.58      0.65        19\n",
            "\n",
            "    accuracy                           0.94       200\n",
            "   macro avg       0.85      0.78      0.81       200\n",
            "weighted avg       0.94      0.94      0.94       200\n",
            "\n"
          ],
          "name": "stdout"
        }
      ]
    },
    {
      "cell_type": "code",
      "metadata": {
        "id": "foIpEcSEm2eN",
        "colab_type": "code",
        "colab": {
          "base_uri": "https://localhost:8080/",
          "height": 424
        },
        "outputId": "d903a59f-9168-4f68-9c45-df226eda415c"
      },
      "source": [
        "get_score(RFC(n_estimators=150),xtrain,xtest,ytrain,ytest)\n",
        "# accuracy is 95% But recall of 1 is very poor"
      ],
      "execution_count": 14,
      "outputs": [
        {
          "output_type": "display_data",
          "data": {
            "image/png": "[encoded data removed]",
            "text/plain": [
              "<Figure size 432x288 with 2 Axes>"
            ]
          },
          "metadata": {
            "tags": [],
            "needs_background": "light"
          }
        },
        {
          "output_type": "stream",
          "text": [
            "              precision    recall  f1-score   support\n",
            "\n",
            "           0       0.96      0.99      0.98       181\n",
            "           1       0.86      0.63      0.73        19\n",
            "\n",
            "    accuracy                           0.95       200\n",
            "   macro avg       0.91      0.81      0.85       200\n",
            "weighted avg       0.95      0.95      0.95       200\n",
            "\n"
          ],
          "name": "stdout"
        }
      ]
    },
    {
      "cell_type": "code",
      "metadata": {
        "id": "it2QKPehsdhF",
        "colab_type": "code",
        "colab": {
          "base_uri": "https://localhost:8080/",
          "height": 424
        },
        "outputId": "29796ac2-e784-4217-a822-a0ace995ad54"
      },
      "source": [
        "get_score(ABC(n_estimators=150,learning_rate=0.2),xtrain,xtest,ytrain,ytest)\n",
        "# accuracy is 96% But recall of 1 is around 79%"
      ],
      "execution_count": 15,
      "outputs": [
        {
          "output_type": "display_data",
          "data": {
            "image/png": "[encoded data removed]",
            "text/plain": [
              "<Figure size 432x288 with 2 Axes>"
            ]
          },
          "metadata": {
            "tags": [],
            "needs_background": "light"
          }
        },
        {
          "output_type": "stream",
          "text": [
            "              precision    recall  f1-score   support\n",
            "\n",
            "           0       0.98      0.98      0.98       181\n",
            "           1       0.83      0.79      0.81        19\n",
            "\n",
            "    accuracy                           0.96       200\n",
            "   macro avg       0.91      0.89      0.90       200\n",
            "weighted avg       0.96      0.96      0.96       200\n",
            "\n"
          ],
          "name": "stdout"
        }
      ]
    },
    {
      "cell_type": "code",
      "metadata": {
        "id": "jH8JZF7Wsdb8",
        "colab_type": "code",
        "colab": {
          "base_uri": "https://localhost:8080/",
          "height": 424
        },
        "outputId": "d19310a2-8d50-4608-da3f-403780e076fc"
      },
      "source": [
        "get_score(GBC(n_estimators=100,learning_rate=0.3),xtrain,xtest,ytrain,ytest)\n",
        "# accuracy is 98% and Recall of 1 is also very good and also the precision. This is the best model so far"
      ],
      "execution_count": 16,
      "outputs": [
        {
          "output_type": "display_data",
          "data": {
            "image/png": "[encoded data removed]",
            "text/plain": [
              "<Figure size 432x288 with 2 Axes>"
            ]
          },
          "metadata": {
            "tags": [],
            "needs_background": "light"
          }
        },
        {
          "output_type": "stream",
          "text": [
            "              precision    recall  f1-score   support\n",
            "\n",
            "           0       0.99      0.99      0.99       181\n",
            "           1       0.89      0.89      0.89        19\n",
            "\n",
            "    accuracy                           0.98       200\n",
            "   macro avg       0.94      0.94      0.94       200\n",
            "weighted avg       0.98      0.98      0.98       200\n",
            "\n"
          ],
          "name": "stdout"
        }
      ]
    },
    {
      "cell_type": "markdown",
      "metadata": {
        "id": "plKOdCvLP7Cr",
        "colab_type": "text"
      },
      "source": [
        "Over Populate the data for improving the model"
      ]
    },
    {
      "cell_type": "code",
      "metadata": {
        "id": "ILgsaQZWsdOG",
        "colab_type": "code",
        "colab": {
          "base_uri": "https://localhost:8080/",
          "height": 175
        },
        "outputId": "26f2f95d-7b00-4d5a-da20-8dca1887e641"
      },
      "source": [
        "from imblearn.over_sampling import SMOTENC\n",
        "sm=SMOTENC(categorical_features=[0,1])\n",
        "xtrain1,ytrain1=sm.fit_resample(xtrain, ytrain)"
      ],
      "execution_count": 17,
      "outputs": [
        {
          "output_type": "stream",
          "text": [
            "/usr/local/lib/python3.6/dist-packages/sklearn/externals/six.py:31: FutureWarning: The module is deprecated in version 0.21 and will be removed in version 0.23 since we've dropped support for Python 2.7. Please rely on the official version of six (https://pypi.org/project/six/).\n",
            "  \"(https://pypi.org/project/six/).\", FutureWarning)\n",
            "/usr/local/lib/python3.6/dist-packages/sklearn/utils/deprecation.py:144: FutureWarning: The sklearn.neighbors.base module is  deprecated in version 0.22 and will be removed in version 0.24. The corresponding classes / functions should instead be imported from sklearn.neighbors. Anything that cannot be imported from sklearn.neighbors is now part of the private API.\n",
            "  warnings.warn(message, FutureWarning)\n",
            "/usr/local/lib/python3.6/dist-packages/sklearn/utils/deprecation.py:87: FutureWarning: Function safe_indexing is deprecated; safe_indexing is deprecated in version 0.22 and will be removed in version 0.24.\n",
            "  warnings.warn(msg, category=FutureWarning)\n",
            "/usr/local/lib/python3.6/dist-packages/sklearn/utils/deprecation.py:87: FutureWarning: Function safe_indexing is deprecated; safe_indexing is deprecated in version 0.22 and will be removed in version 0.24.\n",
            "  warnings.warn(msg, category=FutureWarning)\n"
          ],
          "name": "stderr"
        }
      ]
    },
    {
      "cell_type": "code",
      "metadata": {
        "id": "j8i9mKmWy4lJ",
        "colab_type": "code",
        "colab": {
          "base_uri": "https://localhost:8080/",
          "height": 268
        },
        "outputId": "736ad110-912a-4b4f-e5e6-b592849a5e94"
      },
      "source": [
        "#lets check the new train data\n",
        "sns.countplot(ytrain1)\n",
        "plt.show()\n",
        "#So the data set is balanced"
      ],
      "execution_count": 18,
      "outputs": [
        {
          "output_type": "display_data",
          "data": {
            "image/png": "[encoded data removed]",
            "text/plain": [
              "<Figure size 432x288 with 1 Axes>"
            ]
          },
          "metadata": {
            "tags": [],
            "needs_background": "light"
          }
        }
      ]
    },
    {
      "cell_type": "markdown",
      "metadata": {
        "id": "qoJrDNdYQd60",
        "colab_type": "text"
      },
      "source": [
        "Apply the classifer with populated dataset"
      ]
    },
    {
      "cell_type": "code",
      "metadata": {
        "id": "3CVGo204ziPy",
        "colab_type": "code",
        "colab": {
          "base_uri": "https://localhost:8080/",
          "height": 424
        },
        "outputId": "008627c7-0ca6-4fca-a961-197dfc03493a"
      },
      "source": [
        "get_score(LR(max_iter=1000),xtrain1,xtest,ytrain1,ytest)\n",
        "# accuracy is 93% and 1's recall becomes 83%"
      ],
      "execution_count": 19,
      "outputs": [
        {
          "output_type": "display_data",
          "data": {
            "image/png": "[encoded data removed]",
            "text/plain": [
              "<Figure size 432x288 with 2 Axes>"
            ]
          },
          "metadata": {
            "tags": [],
            "needs_background": "light"
          }
        },
        {
          "output_type": "stream",
          "text": [
            "              precision    recall  f1-score   support\n",
            "\n",
            "           0       0.98      0.94      0.96       181\n",
            "           1       0.59      0.84      0.70        19\n",
            "\n",
            "    accuracy                           0.93       200\n",
            "   macro avg       0.79      0.89      0.83       200\n",
            "weighted avg       0.95      0.93      0.94       200\n",
            "\n"
          ],
          "name": "stdout"
        }
      ]
    },
    {
      "cell_type": "code",
      "metadata": {
        "id": "1zoWQCwS0BKe",
        "colab_type": "code",
        "colab": {
          "base_uri": "https://localhost:8080/",
          "height": 424
        },
        "outputId": "dacf5bd8-6925-4520-c54e-438aa3e091dc"
      },
      "source": [
        "get_score(RFC(n_estimators=120),xtrain1,xtest,ytrain1,ytest)\n",
        "# accuracy is 96% and 1s' recall becomes 89% and precision is also good"
      ],
      "execution_count": 26,
      "outputs": [
        {
          "output_type": "display_data",
          "data": {
            "image/png": "[encoded data removed]",
            "text/plain": [
              "<Figure size 432x288 with 2 Axes>"
            ]
          },
          "metadata": {
            "tags": [],
            "needs_background": "light"
          }
        },
        {
          "output_type": "stream",
          "text": [
            "              precision    recall  f1-score   support\n",
            "\n",
            "           0       0.99      0.97      0.98       181\n",
            "           1       0.77      0.89      0.83        19\n",
            "\n",
            "    accuracy                           0.96       200\n",
            "   macro avg       0.88      0.93      0.90       200\n",
            "weighted avg       0.97      0.96      0.97       200\n",
            "\n"
          ],
          "name": "stdout"
        }
      ]
    },
    {
      "cell_type": "code",
      "metadata": {
        "id": "B0oz9T2i0ekz",
        "colab_type": "code",
        "colab": {
          "base_uri": "https://localhost:8080/",
          "height": 424
        },
        "outputId": "1ada014a-1c33-4a7b-e7de-748aa9ff0e36"
      },
      "source": [
        "get_score(ABC(n_estimators=100,learning_rate=0.1),xtrain1,xtest,ytrain1,ytest)\n",
        "# accuracy is 97% and 1's recall becomes 100% and precision is also good"
      ],
      "execution_count": 21,
      "outputs": [
        {
          "output_type": "display_data",
          "data": {
            "image/png": "[encoded data removed]",
            "text/plain": [
              "<Figure size 432x288 with 2 Axes>"
            ]
          },
          "metadata": {
            "tags": [],
            "needs_background": "light"
          }
        },
        {
          "output_type": "stream",
          "text": [
            "              precision    recall  f1-score   support\n",
            "\n",
            "           0       1.00      0.97      0.98       181\n",
            "           1       0.76      1.00      0.86        19\n",
            "\n",
            "    accuracy                           0.97       200\n",
            "   macro avg       0.88      0.98      0.92       200\n",
            "weighted avg       0.98      0.97      0.97       200\n",
            "\n"
          ],
          "name": "stdout"
        }
      ]
    },
    {
      "cell_type": "code",
      "metadata": {
        "id": "kLlv7QR71ja8",
        "colab_type": "code",
        "colab": {
          "base_uri": "https://localhost:8080/",
          "height": 424
        },
        "outputId": "486a11a2-e2e3-439f-fa2d-4cfcbf9ff315"
      },
      "source": [
        "get_score(GBC(n_estimators=150,learning_rate=.08),xtrain1,xtest,ytrain1,ytest)\n",
        "# accuracy is 98% and 1's recall becomes 95% and precision is also  very good"
      ],
      "execution_count": 35,
      "outputs": [
        {
          "output_type": "display_data",
          "data": {
            "image/png": "[encoded data removed]",
            "text/plain": [
              "<Figure size 432x288 with 2 Axes>"
            ]
          },
          "metadata": {
            "tags": [],
            "needs_background": "light"
          }
        },
        {
          "output_type": "stream",
          "text": [
            "              precision    recall  f1-score   support\n",
            "\n",
            "           0       0.99      0.98      0.99       181\n",
            "           1       0.86      0.95      0.90        19\n",
            "\n",
            "    accuracy                           0.98       200\n",
            "   macro avg       0.93      0.97      0.94       200\n",
            "weighted avg       0.98      0.98      0.98       200\n",
            "\n"
          ],
          "name": "stdout"
        }
      ]
    },
    {
      "cell_type": "markdown",
      "metadata": {
        "id": "AmPUGAT2RbER",
        "colab_type": "text"
      },
      "source": [
        "Considering the trade-off between the Recall and Precision, Gradient Boost Classifier is supirior one, and should be final one"
      ]
    }
  ]
}